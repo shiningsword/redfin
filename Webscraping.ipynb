{
 "cells": [
  {
   "cell_type": "markdown",
   "metadata": {},
   "source": [
    "# Webscrape Example"
   ]
  },
  {
   "cell_type": "code",
   "execution_count": null,
   "metadata": {
    "scrolled": true
   },
   "outputs": [],
   "source": [
    "import requests\n",
    "import urllib.request\n",
    "import time\n",
    "from bs4 import BeautifulSoup"
   ]
  },
  {
   "cell_type": "markdown",
   "metadata": {},
   "source": [
    "### Set the URL you want to webscrape from"
   ]
  },
  {
   "cell_type": "code",
   "execution_count": null,
   "metadata": {},
   "outputs": [],
   "source": [
    "url = 'https://www.redfin.com/OH/Galloway/5936-Weston-Woods-Dr-43119/home/79545455'\n",
    "headers = {'User-Agent': 'Mozilla/5.0 (Linux; Android 4.3; Nexus 7 Build/JSS15Q) AppleWebKit/537.36 (KHTML, like Gecko) Chrome/98.0.4758.80 Safari/537.36'}"
   ]
  },
  {
   "cell_type": "markdown",
   "metadata": {},
   "source": [
    "### Connect to the URL"
   ]
  },
  {
   "cell_type": "code",
   "execution_count": null,
   "metadata": {},
   "outputs": [],
   "source": [
    "response = requests.get(url, headers=headers)"
   ]
  },
  {
   "cell_type": "code",
   "execution_count": null,
   "metadata": {},
   "outputs": [],
   "source": [
    "response #200 means it went through"
   ]
  },
  {
   "cell_type": "markdown",
   "metadata": {},
   "source": [
    "### Parse HTML and save to BeautifulSoup object"
   ]
  },
  {
   "cell_type": "code",
   "execution_count": null,
   "metadata": {},
   "outputs": [],
   "source": [
    "soup = BeautifulSoup(response.text, \"html.parser\")\n",
    "print(soup.prettify())"
   ]
  },
  {
   "cell_type": "markdown",
   "metadata": {},
   "source": [
    "### Parse the HTML"
   ]
  },
  {
   "cell_type": "code",
   "execution_count": null,
   "metadata": {},
   "outputs": [],
   "source": [
    "mainStats = soup.find(\"div\", class_=\"HomeMainStats home-info\")\n",
    "beds = mainStats.find(\"div\", {\"data-rf-test-id\":\"abp-beds\"}).find(\"div\").text\n",
    "baths = mainStats.find(\"div\", {\"data-rf-test-id\":\"abp-baths\"}).find(\"div\").text\n",
    "sqFt = mainStats.find(\"div\", {\"data-rf-test-id\":\"abp-sqFt\"}).find(\"div\").text\n",
    "price_tag = mainStats.find(\"div\", {\"data-rf-test-id\":\"abp-price\"}).find_all(\"div\")\n",
    "price = price_tag[0].text\n",
    "est_month_payment = parse(\"Est. ${}/mo\", price_tag[1].find(\"span\", class_=\"est-monthly-payment\").text)[0]\n"
   ]
  },
  {
   "cell_type": "code",
   "execution_count": null,
   "metadata": {},
   "outputs": [],
   "source": [
    "key_details = soup.find(\"div\", class_=\"keyDetailsList\")\n",
    "year_built = key_details.find(\"span\", text=\"Year Built\").next_sibling.text\n",
    "hoa_due = key_details.find(\"span\", text=\"HOA Dues\").next_sibling.text\n",
    "        "
   ]
  },
  {
   "cell_type": "code",
   "execution_count": null,
   "metadata": {},
   "outputs": [],
   "source": [
    "calculator = soup.find(\"div\", id=\"MortgageCalculator\")\n",
    "tax = calculator.find(\"span\", text=\"Property Taxes\").next_sibling.text\n",
    "insurance = calculator.find(\"span\", text=\"Homeowners' Insurance\").next_sibling.text\n"
   ]
  },
  {
   "cell_type": "markdown",
   "metadata": {},
   "source": [
    "## To download the whole data set, let's do a for loop through all a tags"
   ]
  },
  {
   "cell_type": "code",
   "execution_count": null,
   "metadata": {},
   "outputs": [],
   "source": [
    "line_count = 1\n",
    "for one_a_tag in soup.findAll('a'): #'a' tags are for links\n",
    "    if line_count >= 36: #code for text files starts at line 36\n",
    "        link = one_a_tag['href']\n",
    "        download_url = 'http://web.mta.info/developers/'+ link\n",
    "        urllib.request.urlretrieve(download_url,'./'+link[link.find('/turnstile_')+1:]) \n",
    "        time.sleep(1)\n",
    "    line_count +=1"
   ]
  },
  {
   "cell_type": "code",
   "execution_count": null,
   "metadata": {},
   "outputs": [],
   "source": []
  }
 ],
 "metadata": {
  "kernelspec": {
   "display_name": "Python (redfin)",
   "language": "python",
   "name": "redfin"
  },
  "language_info": {
   "codemirror_mode": {
    "name": "ipython",
    "version": 3
   },
   "file_extension": ".py",
   "mimetype": "text/x-python",
   "name": "python",
   "nbconvert_exporter": "python",
   "pygments_lexer": "ipython3",
   "version": "3.10.4"
  }
 },
 "nbformat": 4,
 "nbformat_minor": 2
}
