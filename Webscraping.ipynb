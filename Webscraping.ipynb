{
 "cells": [
  {
   "cell_type": "markdown",
   "metadata": {},
   "source": [
    "# Webscrape Example"
   ]
  },
  {
   "cell_type": "code",
   "execution_count": 1,
   "metadata": {
    "scrolled": true
   },
   "outputs": [],
   "source": [
    "import requests\n",
    "import urllib.request\n",
    "import time\n",
    "from bs4 import BeautifulSoup"
   ]
  },
  {
   "cell_type": "markdown",
   "metadata": {},
   "source": [
    "### Set the URL you want to webscrape from"
   ]
  },
  {
   "cell_type": "code",
   "execution_count": 2,
   "metadata": {},
   "outputs": [],
   "source": [
    "#url = 'https://www.redfin.com/OH/Galloway/5936-Weston-Woods-Dr-43119/home/79545455'\n",
    "url = 'https://www.redfin.com/zipcode/96761/filter/max-price=750k'\n",
    "url = \"https://www.redfin.com/HI/Lahaina/3708-Lower-Honoapiilani-Rd-96761/unit-E-26/home/71757973\"\n",
    "headers = {'User-Agent': 'Mozilla/5.0 (Linux; Android 4.3; Nexus 7 Build/JSS15Q) AppleWebKit/537.36 (KHTML, like Gecko) Chrome/98.0.4758.80 Safari/537.36'}"
   ]
  },
  {
   "cell_type": "markdown",
   "metadata": {},
   "source": [
    "### Connect to the URL"
   ]
  },
  {
   "cell_type": "code",
   "execution_count": 35,
   "metadata": {},
   "outputs": [],
   "source": [
    "response = requests.get(url, headers=headers)"
   ]
  },
  {
   "cell_type": "code",
   "execution_count": 36,
   "metadata": {},
   "outputs": [
    {
     "data": {
      "text/plain": [
       "<Response [200]>"
      ]
     },
     "execution_count": 36,
     "metadata": {},
     "output_type": "execute_result"
    }
   ],
   "source": [
    "response #200 means it went through"
   ]
  },
  {
   "cell_type": "markdown",
   "metadata": {},
   "source": [
    "### Parse HTML and save to BeautifulSoup object"
   ]
  },
  {
   "cell_type": "code",
   "execution_count": null,
   "metadata": {},
   "outputs": [],
   "source": [
    "soup = BeautifulSoup(response.text, \"html.parser\")\n",
    "print(soup.prettify())"
   ]
  },
  {
   "cell_type": "markdown",
   "metadata": {},
   "source": [
    "### Parse the HTML"
   ]
  },
  {
   "cell_type": "code",
   "execution_count": 79,
   "metadata": {},
   "outputs": [
    {
     "name": "stdout",
     "output_type": "stream",
     "text": [
      "https://www.redfin.com/HI/Lahaina/3708-Lower-Honoapiilani-Rd-96761/unit-E-26/home/71757973\n"
     ]
    }
   ],
   "source": [
    "#soup.find(\"span\", text=\"Lease Terms\").next_sibling.text\n",
    "fee_simple = False\n",
    "short_term = True\n",
    "for item in soup.findAll('span', class_=\"entryItemContent\"):\n",
    "    if item.text.startswith(\"Lease Terms\"):\n",
    "        fee_simple = (item.find(\"span\").text == \"Fee Simple\")\n",
    "    if item.text.startswith(\"Short Term Rental\"):\n",
    "        short_term = (item.find(\"span\").text == \"Yes\")\n"
   ]
  },
  {
   "cell_type": "code",
   "execution_count": 76,
   "metadata": {},
   "outputs": [
    {
     "data": {
      "text/plain": [
       "'Fee Simple'"
      ]
     },
     "execution_count": 76,
     "metadata": {},
     "output_type": "execute_result"
    }
   ],
   "source": [
    "item.find(\"span\").text"
   ]
  },
  {
   "cell_type": "code",
   "execution_count": null,
   "metadata": {},
   "outputs": [],
   "source": []
  },
  {
   "cell_type": "code",
   "execution_count": 67,
   "metadata": {},
   "outputs": [
    {
     "name": "stdout",
     "output_type": "stream",
     "text": [
      "<li class=\"entryItem\">\n",
      " <span class=\"entryItemContent\">\n",
      "  Lease Terms:\n",
      "  <span>\n",
      "   Fee Simple\n",
      "  </span>\n",
      " </span>\n",
      "</li>\n",
      "\n"
     ]
    }
   ],
   "source": [
    "print(soup.find(\"span\", text=\"Fee Simple\").parent.parent.prettify())"
   ]
  },
  {
   "cell_type": "code",
   "execution_count": 33,
   "metadata": {
    "collapsed": true
   },
   "outputs": [
    {
     "name": "stdout",
     "output_type": "stream",
     "text": [
      "/HI/Lahaina/814-Hawaii-30-96761/home/185351586\n",
      "<<<<<<<<<<\n",
      "/HI/Lahaina/814-Hawaii-30-96761/home/185351586\n",
      "<<<<<<<<<<\n",
      "/HI/Lahaina/3708-Lower-Honoapiilani-Rd-96761/unit-E-26/home/71757973\n",
      "<<<<<<<<<<\n",
      "/HI/Lahaina/3708-Lower-Honoapiilani-Rd-96761/unit-E-26/home/71757973\n",
      "<<<<<<<<<<\n",
      "/HI/Lahaina/3559-Lower-Honoapiilani-Rd-96761/unit-702/home/88606435\n",
      "<<<<<<<<<<\n",
      "/HI/Lahaina/3559-Lower-Honoapiilani-Rd-96761/unit-702/home/88606435\n",
      "<<<<<<<<<<\n",
      "/HI/Lahaina/814-Hawaii-30-96761/unit-18-Unit-B/home/185166220\n",
      "<<<<<<<<<<\n",
      "/HI/Lahaina/814-Hawaii-30-96761/unit-18-Unit-B/home/185166220\n",
      "<<<<<<<<<<\n",
      "/HI/Lahaina/4440-Lower-Honoapiilani-Rd-96761/unit-229/home/88603794\n",
      "<<<<<<<<<<\n",
      "/HI/Lahaina/4440-Lower-Honoapiilani-Rd-96761/unit-229/home/88603794\n",
      "<<<<<<<<<<\n",
      "/HI/Lahaina/3788-Lower-Honoapiilani-Rd-96761/unit-A206/home/71704669\n",
      "<<<<<<<<<<\n",
      "/HI/Lahaina/3788-Lower-Honoapiilani-Rd-96761/unit-A206/home/71704669\n",
      "<<<<<<<<<<\n",
      "/HI/Lahaina/3740-Lower-Honoapiilani-Rd-96761/unit-A108/home/88603863\n",
      "<<<<<<<<<<\n",
      "/HI/Lahaina/3740-Lower-Honoapiilani-Rd-96761/unit-A108/home/88603863\n",
      "<<<<<<<<<<\n",
      "/HI/Lahaina/4475-Lower-Honoapiilani-Rd-96761/unit-152/home/180418323\n",
      "<<<<<<<<<<\n",
      "/HI/Lahaina/4475-Lower-Honoapiilani-Rd-96761/unit-152/home/180418323\n",
      "<<<<<<<<<<\n",
      "/HI/Lahaina/45-Stephen-Ln-96761/unit-831/home/71728089\n",
      "<<<<<<<<<<\n",
      "/HI/Lahaina/45-Stephen-Ln-96761/unit-831/home/71728089\n",
      "<<<<<<<<<<\n",
      "/HI/Lahaina/3740-Lower-Honoapiilani-Rd-96761/unit-E102/home/71725138\n",
      "<<<<<<<<<<\n",
      "/HI/Lahaina/3740-Lower-Honoapiilani-Rd-96761/unit-E102/home/71725138\n",
      "<<<<<<<<<<\n",
      "/HI/Lahaina/4435-Lower-Honoapiilani-Rd-96761/unit-119/home/71702920\n",
      "<<<<<<<<<<\n",
      "/HI/Lahaina/4435-Lower-Honoapiilani-Rd-96761/unit-119/home/71702920\n",
      "<<<<<<<<<<\n",
      "/HI/Lahaina/4435-Lower-Honoapiilani-Rd-96761/unit-121/home/71732743\n",
      "<<<<<<<<<<\n",
      "/HI/Lahaina/4435-Lower-Honoapiilani-Rd-96761/unit-121/home/71732743\n",
      "<<<<<<<<<<\n",
      "/HI/Lahaina/127-Punohu-Ln-96761/unit-4/home/108488733\n",
      "<<<<<<<<<<\n",
      "/HI/Lahaina/127-Punohu-Ln-96761/unit-4/home/108488733\n",
      "<<<<<<<<<<\n",
      "/HI/Lahaina/4440-Lower-Honoapiilani-Rd-96761/unit-137/home/71741983\n",
      "<<<<<<<<<<\n",
      "/HI/Lahaina/4440-Lower-Honoapiilani-Rd-96761/unit-137/home/71741983\n",
      "<<<<<<<<<<\n",
      "/HI/Lahaina/3660-Lower-Honoapiilani-Rd-96761/unit-306/home/71707412\n",
      "<<<<<<<<<<\n",
      "/HI/Lahaina/3660-Lower-Honoapiilani-Rd-96761/unit-306/home/71707412\n",
      "<<<<<<<<<<\n",
      "/HI/Lahaina/3740-Lower-Honoapiilani-Rd-96761/unit-D208/home/71714407\n",
      "<<<<<<<<<<\n",
      "/HI/Lahaina/3740-Lower-Honoapiilani-Rd-96761/unit-D208/home/71714407\n",
      "<<<<<<<<<<\n",
      "/HI/Lahaina/4435-Lower-Honoapiilani-Rd-96761/unit-123/home/184661041\n",
      "<<<<<<<<<<\n",
      "/HI/Lahaina/4435-Lower-Honoapiilani-Rd-96761/unit-123/home/184661041\n",
      "<<<<<<<<<<\n",
      "/HI/Lahaina/51-Pihaa-St-96761/unit-48/home/71690695\n",
      "<<<<<<<<<<\n",
      "/HI/Lahaina/51-Pihaa-St-96761/unit-48/home/71690695\n",
      "<<<<<<<<<<\n",
      "/HI/Lahaina/814-Hawaii-30-96761/unit-B/home/181909445\n",
      "<<<<<<<<<<\n",
      "/HI/Lahaina/814-Hawaii-30-96761/unit-B/home/181909445\n",
      "<<<<<<<<<<\n",
      "/HI/Lahaina/4435-Lower-Honoapiilani-Rd-96761/unit-225/home/71724116\n",
      "<<<<<<<<<<\n",
      "/HI/Lahaina/4435-Lower-Honoapiilani-Rd-96761/unit-225/home/71724116\n",
      "<<<<<<<<<<\n",
      "/HI/Wailuku/0-Hawaii-30-96793/home/183024374\n",
      "<<<<<<<<<<\n",
      "/HI/Wailuku/0-Hawaii-30-96793/home/183024374\n",
      "<<<<<<<<<<\n"
     ]
    }
   ],
   "source": [
    "for one_a_tag in results.findAll('a'): #'a' tags are for links\n",
    "    if one_a_tag.has_attr(\"href\") and one_a_tag[\"href\"].startswith(\"/HI/\"):\n",
    "        print(one_a_tag[\"href\"]) "
   ]
  },
  {
   "cell_type": "code",
   "execution_count": null,
   "metadata": {},
   "outputs": [],
   "source": [
    "mainStats = soup.find(\"div\", class_=\"HomeMainStats home-info\")\n",
    "beds = mainStats.find(\"div\", {\"data-rf-test-id\":\"abp-beds\"}).find(\"div\").text\n",
    "baths = mainStats.find(\"div\", {\"data-rf-test-id\":\"abp-baths\"}).find(\"div\").text\n",
    "sqFt = mainStats.find(\"div\", {\"data-rf-test-id\":\"abp-sqFt\"}).find(\"div\").text\n",
    "price_tag = mainStats.find(\"div\", {\"data-rf-test-id\":\"abp-price\"}).find_all(\"div\")\n",
    "price = price_tag[0].text\n",
    "est_month_payment = parse(\"Est. ${}/mo\", price_tag[1].find(\"span\", class_=\"est-monthly-payment\").text)[0]\n"
   ]
  },
  {
   "cell_type": "code",
   "execution_count": null,
   "metadata": {},
   "outputs": [],
   "source": [
    "key_details = soup.find(\"div\", class_=\"keyDetailsList\")\n",
    "year_built = key_details.find(\"span\", text=\"Year Built\").next_sibling.text\n",
    "hoa_due = key_details.find(\"span\", text=\"HOA Dues\").next_sibling.text\n",
    "        "
   ]
  },
  {
   "cell_type": "code",
   "execution_count": null,
   "metadata": {},
   "outputs": [],
   "source": [
    "calculator = soup.find(\"div\", id=\"MortgageCalculator\")\n",
    "tax = calculator.find(\"span\", text=\"Property Taxes\").next_sibling.text\n",
    "insurance = calculator.find(\"span\", text=\"Homeowners' Insurance\").next_sibling.text\n"
   ]
  },
  {
   "cell_type": "markdown",
   "metadata": {},
   "source": [
    "## To download the whole data set, let's do a for loop through all a tags"
   ]
  },
  {
   "cell_type": "code",
   "execution_count": null,
   "metadata": {},
   "outputs": [],
   "source": [
    "line_count = 1\n",
    "for one_a_tag in soup.findAll('a'): #'a' tags are for links\n",
    "    if line_count >= 36: #code for text files starts at line 36\n",
    "        link = one_a_tag['href']\n",
    "        download_url = 'http://web.mta.info/developers/'+ link\n",
    "        urllib.request.urlretrieve(download_url,'./'+link[link.find('/turnstile_')+1:]) \n",
    "        time.sleep(1)\n",
    "    line_count +=1"
   ]
  },
  {
   "cell_type": "markdown",
   "metadata": {},
   "source": [
    "# Let's do it step by step"
   ]
  },
  {
   "cell_type": "code",
   "execution_count": 5,
   "metadata": {},
   "outputs": [
    {
     "name": "stdout",
     "output_type": "stream",
     "text": [
      "checked list writing to listing_record.txt\n"
     ]
    }
   ],
   "source": [
    "import time\n",
    "import random\n",
    "\n",
    "url = 'https://www.redfin.com/zipcode/96761/filter/property-type=condo,max-price=800k'\n",
    "response = requests.get(url, headers=headers)\n",
    "soup = BeautifulSoup(response.text, \"html.parser\")\n",
    "listing_record = ListingRecord()\n",
    "checked_urls = set(listing_record.data)\n",
    "for one_a_tag in soup.findAll('a'): #'a' tags are for links\n",
    "    if one_a_tag.has_attr(\"href\") and one_a_tag[\"href\"].startswith(\"/HI/\"):\n",
    "        property_url = one_a_tag[\"href\"]\n",
    "        if property_url in checked_urls:\n",
    "            continue\n",
    "        fee_simple, short_term = check_listing(property_url)\n",
    "        checked_urls.add(property_url)\n",
    "        if fee_simple and short_term:\n",
    "            print(f\"find a property https://redfin.com{property_url}\")\n",
    "        time.sleep(random.randint(10,30))\n",
    "\n",
    "listing_record.write_set(checked_urls)\n",
    "# http://www.thehawaiistatecondoguide.com/maui.html to check short term rental"
   ]
  },
  {
   "cell_type": "code",
   "execution_count": 4,
   "metadata": {},
   "outputs": [],
   "source": [
    "def check_listing(list_url):\n",
    "    print(f\"checking {list_url} ...\")\n",
    "    url = \"https://www.redfin.com\" + list_url\n",
    "    response = requests.get(url, headers=headers)\n",
    "    soup = BeautifulSoup(response.text, \"html.parser\")\n",
    "    fee_simple = False\n",
    "    short_term = True\n",
    "    for item in soup.findAll('span', class_=\"entryItemContent\"):\n",
    "        if item.text.startswith(\"Lease Terms\"):\n",
    "            fee_simple = (item.find(\"span\").text == \"Fee Simple\")\n",
    "        if item.text.startswith(\"Short Term Rental\"):\n",
    "            short_term = (item.find(\"span\").text == \"Yes\")\n",
    "    return fee_simple, short_term"
   ]
  },
  {
   "cell_type": "code",
   "execution_count": 3,
   "metadata": {},
   "outputs": [],
   "source": [
    "import os\n",
    "\n",
    "class ListingRecord:\n",
    "    def __init__(self, path=\"listing_record.txt\"):\n",
    "        self.path = path\n",
    "        if os.path.exists(path):\n",
    "            with open(path, \"r\") as file:\n",
    "                data = file.read()\n",
    "                data_into_list = data.split(\"\\n\")[:-1]\n",
    "            self.data = set(data_into_list)\n",
    "        else:\n",
    "            self.data = set()\n",
    "    \n",
    "    def write_set(self, set_urls):\n",
    "        with open(self.path, \"w\") as file:\n",
    "            for url in set_urls:\n",
    "                file.write(url + \"\\n\")\n",
    "        print(f\"checked list writing to {self.path}\")"
   ]
  },
  {
   "cell_type": "code",
   "execution_count": 17,
   "metadata": {},
   "outputs": [
    {
     "name": "stdout",
     "output_type": "stream",
     "text": [
      "checking /HI/Kihei/777-S-Kihei-Rd-96753/unit-227/home/71740788 ...\n",
      "find a property https://redfin.com/HI/Kihei/777-S-Kihei-Rd-96753/unit-227/home/71740788\n",
      "checking /HI/Kihei/2747-S-Kihei-Rd-96753/unit-E301/home/71713621 ...\n",
      "checking /HI/Kihei/2777-S-Kihei-Rd-96753/unit-M109/home/71739523 ...\n",
      "find a property https://redfin.com/HI/Kihei/2777-S-Kihei-Rd-96753/unit-M109/home/71739523\n",
      "checking /HI/Kihei/140-Uwapo-Rd-96753/unit-37-103/home/71713986 ...\n",
      "checked list writing to listing_96753.txt\n"
     ]
    }
   ],
   "source": [
    "import time\n",
    "import random\n",
    "url = 'https://www.redfin.com/zipcode/96753/filter/property-type=condo,max-price=999k'\n",
    "response = requests.get(url, headers=headers)\n",
    "soup = BeautifulSoup(response.text, \"html.parser\")\n",
    "listing_record = ListingRecord(\"listing_96753.txt\")\n",
    "checked_urls = set(listing_record.data)\n",
    "for one_a_tag in soup.findAll('a'): #'a' tags are for links\n",
    "    if one_a_tag.has_attr(\"href\") and one_a_tag[\"href\"].startswith(\"/HI/\"):\n",
    "        property_url = one_a_tag[\"href\"]\n",
    "        if property_url in checked_urls:\n",
    "            continue\n",
    "        fee_simple, short_term = check_listing(property_url)\n",
    "        checked_urls.add(property_url)\n",
    "        if fee_simple and short_term:\n",
    "            print(f\"find a property https://redfin.com{property_url}\")\n",
    "        time.sleep(random.randint(10,30))\n",
    "\n",
    "listing_record.write_set(checked_urls)"
   ]
  }
 ],
 "metadata": {
  "kernelspec": {
   "display_name": "Python (redfin)",
   "language": "python",
   "name": "redfin"
  },
  "language_info": {
   "codemirror_mode": {
    "name": "ipython",
    "version": 3
   },
   "file_extension": ".py",
   "mimetype": "text/x-python",
   "name": "python",
   "nbconvert_exporter": "python",
   "pygments_lexer": "ipython3",
   "version": "3.10.4"
  }
 },
 "nbformat": 4,
 "nbformat_minor": 2
}
