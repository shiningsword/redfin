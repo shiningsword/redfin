{
 "cells": [
  {
   "cell_type": "markdown",
   "metadata": {},
   "source": [
    "# Webscrape Example"
   ]
  },
  {
   "cell_type": "code",
   "execution_count": 2,
   "metadata": {
    "scrolled": true
   },
   "outputs": [],
   "source": [
    "import requests\n",
    "import urllib.request\n",
    "import time\n",
    "from bs4 import BeautifulSoup"
   ]
  },
  {
   "cell_type": "markdown",
   "metadata": {},
   "source": [
    "### Set the URL you want to webscrape from"
   ]
  },
  {
   "cell_type": "code",
   "execution_count": 3,
   "metadata": {},
   "outputs": [],
   "source": [
    "#url = 'https://www.redfin.com/OH/Galloway/5936-Weston-Woods-Dr-43119/home/79545455'\n",
    "url = 'https://www.redfin.com/zipcode/96761/filter/max-price=750k'\n",
    "url = \"https://www.redfin.com/HI/Lahaina/3708-Lower-Honoapiilani-Rd-96761/unit-E-26/home/71757973\"\n",
    "headers = {'User-Agent': 'Mozilla/5.0 (Linux; Android 4.3; Nexus 7 Build/JSS15Q) AppleWebKit/537.36 (KHTML, like Gecko) Chrome/98.0.4758.80 Safari/537.36'}"
   ]
  },
  {
   "cell_type": "markdown",
   "metadata": {},
   "source": [
    "### Connect to the URL"
   ]
  },
  {
   "cell_type": "code",
   "execution_count": 35,
   "metadata": {},
   "outputs": [],
   "source": [
    "response = requests.get(url, headers=headers)"
   ]
  },
  {
   "cell_type": "code",
   "execution_count": 36,
   "metadata": {},
   "outputs": [
    {
     "data": {
      "text/plain": [
       "<Response [200]>"
      ]
     },
     "execution_count": 36,
     "metadata": {},
     "output_type": "execute_result"
    }
   ],
   "source": [
    "response #200 means it went through"
   ]
  },
  {
   "cell_type": "markdown",
   "metadata": {},
   "source": [
    "### Parse HTML and save to BeautifulSoup object"
   ]
  },
  {
   "cell_type": "code",
   "execution_count": null,
   "metadata": {},
   "outputs": [],
   "source": [
    "soup = BeautifulSoup(response.text, \"html.parser\")\n",
    "print(soup.prettify())"
   ]
  },
  {
   "cell_type": "markdown",
   "metadata": {},
   "source": [
    "### Parse the HTML"
   ]
  },
  {
   "cell_type": "code",
   "execution_count": 79,
   "metadata": {},
   "outputs": [
    {
     "name": "stdout",
     "output_type": "stream",
     "text": [
      "https://www.redfin.com/HI/Lahaina/3708-Lower-Honoapiilani-Rd-96761/unit-E-26/home/71757973\n"
     ]
    }
   ],
   "source": [
    "#soup.find(\"span\", text=\"Lease Terms\").next_sibling.text\n",
    "fee_simple = False\n",
    "short_term = True\n",
    "for item in soup.findAll('span', class_=\"entryItemContent\"):\n",
    "    if item.text.startswith(\"Lease Terms\"):\n",
    "        fee_simple = (item.find(\"span\").text == \"Fee Simple\")\n",
    "    if item.text.startswith(\"Short Term Rental\"):\n",
    "        short_term = (item.find(\"span\").text == \"Yes\")\n"
   ]
  },
  {
   "cell_type": "code",
   "execution_count": 76,
   "metadata": {},
   "outputs": [
    {
     "data": {
      "text/plain": [
       "'Fee Simple'"
      ]
     },
     "execution_count": 76,
     "metadata": {},
     "output_type": "execute_result"
    }
   ],
   "source": [
    "item.find(\"span\").text"
   ]
  },
  {
   "cell_type": "code",
   "execution_count": null,
   "metadata": {},
   "outputs": [],
   "source": []
  },
  {
   "cell_type": "code",
   "execution_count": 67,
   "metadata": {},
   "outputs": [
    {
     "name": "stdout",
     "output_type": "stream",
     "text": [
      "<li class=\"entryItem\">\n",
      " <span class=\"entryItemContent\">\n",
      "  Lease Terms:\n",
      "  <span>\n",
      "   Fee Simple\n",
      "  </span>\n",
      " </span>\n",
      "</li>\n",
      "\n"
     ]
    }
   ],
   "source": [
    "print(soup.find(\"span\", text=\"Fee Simple\").parent.parent.prettify())"
   ]
  },
  {
   "cell_type": "code",
   "execution_count": 33,
   "metadata": {
    "collapsed": true
   },
   "outputs": [
    {
     "name": "stdout",
     "output_type": "stream",
     "text": [
      "/HI/Lahaina/814-Hawaii-30-96761/home/185351586\n",
      "<<<<<<<<<<\n",
      "/HI/Lahaina/814-Hawaii-30-96761/home/185351586\n",
      "<<<<<<<<<<\n",
      "/HI/Lahaina/3708-Lower-Honoapiilani-Rd-96761/unit-E-26/home/71757973\n",
      "<<<<<<<<<<\n",
      "/HI/Lahaina/3708-Lower-Honoapiilani-Rd-96761/unit-E-26/home/71757973\n",
      "<<<<<<<<<<\n",
      "/HI/Lahaina/3559-Lower-Honoapiilani-Rd-96761/unit-702/home/88606435\n",
      "<<<<<<<<<<\n",
      "/HI/Lahaina/3559-Lower-Honoapiilani-Rd-96761/unit-702/home/88606435\n",
      "<<<<<<<<<<\n",
      "/HI/Lahaina/814-Hawaii-30-96761/unit-18-Unit-B/home/185166220\n",
      "<<<<<<<<<<\n",
      "/HI/Lahaina/814-Hawaii-30-96761/unit-18-Unit-B/home/185166220\n",
      "<<<<<<<<<<\n",
      "/HI/Lahaina/4440-Lower-Honoapiilani-Rd-96761/unit-229/home/88603794\n",
      "<<<<<<<<<<\n",
      "/HI/Lahaina/4440-Lower-Honoapiilani-Rd-96761/unit-229/home/88603794\n",
      "<<<<<<<<<<\n",
      "/HI/Lahaina/3788-Lower-Honoapiilani-Rd-96761/unit-A206/home/71704669\n",
      "<<<<<<<<<<\n",
      "/HI/Lahaina/3788-Lower-Honoapiilani-Rd-96761/unit-A206/home/71704669\n",
      "<<<<<<<<<<\n",
      "/HI/Lahaina/3740-Lower-Honoapiilani-Rd-96761/unit-A108/home/88603863\n",
      "<<<<<<<<<<\n",
      "/HI/Lahaina/3740-Lower-Honoapiilani-Rd-96761/unit-A108/home/88603863\n",
      "<<<<<<<<<<\n",
      "/HI/Lahaina/4475-Lower-Honoapiilani-Rd-96761/unit-152/home/180418323\n",
      "<<<<<<<<<<\n",
      "/HI/Lahaina/4475-Lower-Honoapiilani-Rd-96761/unit-152/home/180418323\n",
      "<<<<<<<<<<\n",
      "/HI/Lahaina/45-Stephen-Ln-96761/unit-831/home/71728089\n",
      "<<<<<<<<<<\n",
      "/HI/Lahaina/45-Stephen-Ln-96761/unit-831/home/71728089\n",
      "<<<<<<<<<<\n",
      "/HI/Lahaina/3740-Lower-Honoapiilani-Rd-96761/unit-E102/home/71725138\n",
      "<<<<<<<<<<\n",
      "/HI/Lahaina/3740-Lower-Honoapiilani-Rd-96761/unit-E102/home/71725138\n",
      "<<<<<<<<<<\n",
      "/HI/Lahaina/4435-Lower-Honoapiilani-Rd-96761/unit-119/home/71702920\n",
      "<<<<<<<<<<\n",
      "/HI/Lahaina/4435-Lower-Honoapiilani-Rd-96761/unit-119/home/71702920\n",
      "<<<<<<<<<<\n",
      "/HI/Lahaina/4435-Lower-Honoapiilani-Rd-96761/unit-121/home/71732743\n",
      "<<<<<<<<<<\n",
      "/HI/Lahaina/4435-Lower-Honoapiilani-Rd-96761/unit-121/home/71732743\n",
      "<<<<<<<<<<\n",
      "/HI/Lahaina/127-Punohu-Ln-96761/unit-4/home/108488733\n",
      "<<<<<<<<<<\n",
      "/HI/Lahaina/127-Punohu-Ln-96761/unit-4/home/108488733\n",
      "<<<<<<<<<<\n",
      "/HI/Lahaina/4440-Lower-Honoapiilani-Rd-96761/unit-137/home/71741983\n",
      "<<<<<<<<<<\n",
      "/HI/Lahaina/4440-Lower-Honoapiilani-Rd-96761/unit-137/home/71741983\n",
      "<<<<<<<<<<\n",
      "/HI/Lahaina/3660-Lower-Honoapiilani-Rd-96761/unit-306/home/71707412\n",
      "<<<<<<<<<<\n",
      "/HI/Lahaina/3660-Lower-Honoapiilani-Rd-96761/unit-306/home/71707412\n",
      "<<<<<<<<<<\n",
      "/HI/Lahaina/3740-Lower-Honoapiilani-Rd-96761/unit-D208/home/71714407\n",
      "<<<<<<<<<<\n",
      "/HI/Lahaina/3740-Lower-Honoapiilani-Rd-96761/unit-D208/home/71714407\n",
      "<<<<<<<<<<\n",
      "/HI/Lahaina/4435-Lower-Honoapiilani-Rd-96761/unit-123/home/184661041\n",
      "<<<<<<<<<<\n",
      "/HI/Lahaina/4435-Lower-Honoapiilani-Rd-96761/unit-123/home/184661041\n",
      "<<<<<<<<<<\n",
      "/HI/Lahaina/51-Pihaa-St-96761/unit-48/home/71690695\n",
      "<<<<<<<<<<\n",
      "/HI/Lahaina/51-Pihaa-St-96761/unit-48/home/71690695\n",
      "<<<<<<<<<<\n",
      "/HI/Lahaina/814-Hawaii-30-96761/unit-B/home/181909445\n",
      "<<<<<<<<<<\n",
      "/HI/Lahaina/814-Hawaii-30-96761/unit-B/home/181909445\n",
      "<<<<<<<<<<\n",
      "/HI/Lahaina/4435-Lower-Honoapiilani-Rd-96761/unit-225/home/71724116\n",
      "<<<<<<<<<<\n",
      "/HI/Lahaina/4435-Lower-Honoapiilani-Rd-96761/unit-225/home/71724116\n",
      "<<<<<<<<<<\n",
      "/HI/Wailuku/0-Hawaii-30-96793/home/183024374\n",
      "<<<<<<<<<<\n",
      "/HI/Wailuku/0-Hawaii-30-96793/home/183024374\n",
      "<<<<<<<<<<\n"
     ]
    }
   ],
   "source": [
    "for one_a_tag in results.findAll('a'): #'a' tags are for links\n",
    "    if one_a_tag.has_attr(\"href\") and one_a_tag[\"href\"].startswith(\"/HI/\"):\n",
    "        print(one_a_tag[\"href\"]) "
   ]
  },
  {
   "cell_type": "code",
   "execution_count": null,
   "metadata": {},
   "outputs": [],
   "source": [
    "mainStats = soup.find(\"div\", class_=\"HomeMainStats home-info\")\n",
    "beds = mainStats.find(\"div\", {\"data-rf-test-id\":\"abp-beds\"}).find(\"div\").text\n",
    "baths = mainStats.find(\"div\", {\"data-rf-test-id\":\"abp-baths\"}).find(\"div\").text\n",
    "sqFt = mainStats.find(\"div\", {\"data-rf-test-id\":\"abp-sqFt\"}).find(\"div\").text\n",
    "price_tag = mainStats.find(\"div\", {\"data-rf-test-id\":\"abp-price\"}).find_all(\"div\")\n",
    "price = price_tag[0].text\n",
    "est_month_payment = parse(\"Est. ${}/mo\", price_tag[1].find(\"span\", class_=\"est-monthly-payment\").text)[0]\n"
   ]
  },
  {
   "cell_type": "code",
   "execution_count": null,
   "metadata": {},
   "outputs": [],
   "source": [
    "key_details = soup.find(\"div\", class_=\"keyDetailsList\")\n",
    "year_built = key_details.find(\"span\", text=\"Year Built\").next_sibling.text\n",
    "hoa_due = key_details.find(\"span\", text=\"HOA Dues\").next_sibling.text\n",
    "        "
   ]
  },
  {
   "cell_type": "code",
   "execution_count": null,
   "metadata": {},
   "outputs": [],
   "source": [
    "calculator = soup.find(\"div\", id=\"MortgageCalculator\")\n",
    "tax = calculator.find(\"span\", text=\"Property Taxes\").next_sibling.text\n",
    "insurance = calculator.find(\"span\", text=\"Homeowners' Insurance\").next_sibling.text\n"
   ]
  },
  {
   "cell_type": "markdown",
   "metadata": {},
   "source": [
    "## To download the whole data set, let's do a for loop through all a tags"
   ]
  },
  {
   "cell_type": "code",
   "execution_count": null,
   "metadata": {},
   "outputs": [],
   "source": [
    "line_count = 1\n",
    "for one_a_tag in soup.findAll('a'): #'a' tags are for links\n",
    "    if line_count >= 36: #code for text files starts at line 36\n",
    "        link = one_a_tag['href']\n",
    "        download_url = 'http://web.mta.info/developers/'+ link\n",
    "        urllib.request.urlretrieve(download_url,'./'+link[link.find('/turnstile_')+1:]) \n",
    "        time.sleep(1)\n",
    "    line_count +=1"
   ]
  },
  {
   "cell_type": "markdown",
   "metadata": {},
   "source": [
    "# Let's do it step by step"
   ]
  },
  {
   "cell_type": "code",
   "execution_count": 13,
   "metadata": {},
   "outputs": [
    {
     "name": "stdout",
     "output_type": "stream",
     "text": [
      "checking /HI/Lahaina/3708-Lower-Honoapiilani-Rd-96761/unit-E-26/home/71757973 ...\n",
      "find a property https://redfin.com/HI/Lahaina/3708-Lower-Honoapiilani-Rd-96761/unit-E-26/home/71757973\n",
      "checking /HI/Lahaina/3559-Lower-Honoapiilani-Rd-96761/unit-702/home/88606435 ...\n",
      "checking /HI/Lahaina/4440-Lower-Honoapiilani-Rd-96761/unit-229/home/88603794 ...\n"
     ]
    },
    {
     "ename": "KeyboardInterrupt",
     "evalue": "",
     "output_type": "error",
     "traceback": [
      "\u001b[0;31m---------------------------------------------------------------------------\u001b[0m",
      "\u001b[0;31mKeyboardInterrupt\u001b[0m                         Traceback (most recent call last)",
      "Input \u001b[0;32mIn [13]\u001b[0m, in \u001b[0;36m<cell line: 8>\u001b[0;34m()\u001b[0m\n\u001b[1;32m     13\u001b[0m fee_simple, short_term \u001b[38;5;241m=\u001b[39m check_listing(property_url)\n\u001b[1;32m     14\u001b[0m checked_urls\u001b[38;5;241m.\u001b[39madd(property_url)\n\u001b[0;32m---> 15\u001b[0m \u001b[43mtime\u001b[49m\u001b[38;5;241;43m.\u001b[39;49m\u001b[43msleep\u001b[49m\u001b[43m(\u001b[49m\u001b[43mrandom\u001b[49m\u001b[38;5;241;43m.\u001b[39;49m\u001b[43mrandint\u001b[49m\u001b[43m(\u001b[49m\u001b[38;5;241;43m10\u001b[39;49m\u001b[43m,\u001b[49m\u001b[38;5;241;43m30\u001b[39;49m\u001b[43m)\u001b[49m\u001b[43m)\u001b[49m\n\u001b[1;32m     16\u001b[0m \u001b[38;5;28;01mif\u001b[39;00m fee_simple \u001b[38;5;129;01mand\u001b[39;00m short_term:\n\u001b[1;32m     17\u001b[0m     \u001b[38;5;28mprint\u001b[39m(\u001b[38;5;124mf\u001b[39m\u001b[38;5;124m\"\u001b[39m\u001b[38;5;124mfind a property https://redfin.com\u001b[39m\u001b[38;5;132;01m{\u001b[39;00mproperty_url\u001b[38;5;132;01m}\u001b[39;00m\u001b[38;5;124m\"\u001b[39m)\n",
      "\u001b[0;31mKeyboardInterrupt\u001b[0m: "
     ]
    }
   ],
   "source": [
    "import time\n",
    "import random\n",
    "\n",
    "url = 'https://www.redfin.com/zipcode/96761/filter/property-type=condo,max-price=750k'\n",
    "response = requests.get(url, headers=headers)\n",
    "soup = BeautifulSoup(response.text, \"html.parser\")\n",
    "checked_urls = set()\n",
    "for one_a_tag in soup.findAll('a'): #'a' tags are for links\n",
    "    if one_a_tag.has_attr(\"href\") and one_a_tag[\"href\"].startswith(\"/HI/\"):\n",
    "        property_url = one_a_tag[\"href\"]\n",
    "        if property_url in checked_urls:\n",
    "            continue\n",
    "        fee_simple, short_term = check_listing(property_url)\n",
    "        checked_urls.add(property_url)\n",
    "        if fee_simple and short_term:\n",
    "            print(f\"find a property https://redfin.com{property_url}\")\n",
    "        time.sleep(random.randint(10,30))"
   ]
  },
  {
   "cell_type": "code",
   "execution_count": 4,
   "metadata": {},
   "outputs": [],
   "source": [
    "def check_listing(list_url):\n",
    "    print(f\"checking {list_url} ...\")\n",
    "    url = \"https://www.redfin.com\" + list_url\n",
    "    response = requests.get(url, headers=headers)\n",
    "    soup = BeautifulSoup(response.text, \"html.parser\")\n",
    "    fee_simple = False\n",
    "    short_term = True\n",
    "    for item in soup.findAll('span', class_=\"entryItemContent\"):\n",
    "        if item.text.startswith(\"Lease Terms\"):\n",
    "            fee_simple = (item.find(\"span\").text == \"Fee Simple\")\n",
    "        if item.text.startswith(\"Short Term Rental\"):\n",
    "            short_term = (item.find(\"span\").text == \"Yes\")\n",
    "    return fee_simple, short_term"
   ]
  }
 ],
 "metadata": {
  "kernelspec": {
   "display_name": "Python (redfin)",
   "language": "python",
   "name": "redfin"
  },
  "language_info": {
   "codemirror_mode": {
    "name": "ipython",
    "version": 3
   },
   "file_extension": ".py",
   "mimetype": "text/x-python",
   "name": "python",
   "nbconvert_exporter": "python",
   "pygments_lexer": "ipython3",
   "version": "3.10.4"
  }
 },
 "nbformat": 4,
 "nbformat_minor": 2
}
